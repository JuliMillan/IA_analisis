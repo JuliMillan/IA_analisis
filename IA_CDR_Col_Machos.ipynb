{
  "nbformat": 4,
  "nbformat_minor": 0,
  "metadata": {
    "colab": {
      "name": "IA_CDR_Col_Machos.ipynb",
      "provenance": [],
      "collapsed_sections": [],
      "include_colab_link": true
    },
    "kernelspec": {
      "name": "python3",
      "display_name": "Python 3"
    },
    "language_info": {
      "name": "python"
    }
  },
  "cells": [
    {
      "cell_type": "markdown",
      "metadata": {
        "id": "view-in-github",
        "colab_type": "text"
      },
      "source": [
        "<a href=\"https://colab.research.google.com/github/JuliMillan/IA_analisis/blob/main/IA_CDR_Col_Machos.ipynb\" target=\"_parent\"><img src=\"https://colab.research.google.com/assets/colab-badge.svg\" alt=\"Open In Colab\"/></a>"
      ]
    },
    {
      "cell_type": "code",
      "metadata": {
        "colab": {
          "base_uri": "https://localhost:8080/"
        },
        "id": "JKaK6jUP4KQp",
        "outputId": "e4796b52-ff7b-45f2-c5ee-2ece855e7bea"
      },
      "source": [
        "import pandas as pd\n",
        "import numpy as np\n",
        "import seaborn as sns\n",
        "import matplotlib.pyplot as plt\n",
        "from matplotlib import style\n",
        "import csv\n",
        "import os\n",
        "from numpy import median\n",
        "from scipy.stats import iqr\n",
        "from scipy.stats import kruskal\n",
        "!pip install scikit-posthocs\n",
        "import scikit_posthocs as sp"
      ],
      "execution_count": null,
      "outputs": [
        {
          "output_type": "stream",
          "text": [
            "Collecting scikit-posthocs\n",
            "\u001b[?25l  Downloading https://files.pythonhosted.org/packages/64/96/ba864fea59850fe58bba59899696b304c3d579827a678de0594d4fc30d9b/scikit-posthocs-0.6.7.tar.gz (43kB)\n",
            "\r\u001b[K     |███████▋                        | 10kB 15.2MB/s eta 0:00:01\r\u001b[K     |███████████████▏                | 20kB 21.5MB/s eta 0:00:01\r\u001b[K     |██████████████████████▊         | 30kB 26.7MB/s eta 0:00:01\r\u001b[K     |██████████████████████████████▎ | 40kB 29.8MB/s eta 0:00:01\r\u001b[K     |████████████████████████████████| 51kB 5.8MB/s \n",
            "\u001b[?25h  Installing build dependencies ... \u001b[?25l\u001b[?25hdone\n",
            "  Getting requirements to build wheel ... \u001b[?25l\u001b[?25hdone\n",
            "    Preparing wheel metadata ... \u001b[?25l\u001b[?25hdone\n",
            "Requirement already satisfied: scipy in /usr/local/lib/python3.7/dist-packages (from scikit-posthocs) (1.4.1)\n",
            "Requirement already satisfied: numpy in /usr/local/lib/python3.7/dist-packages (from scikit-posthocs) (1.19.5)\n",
            "Requirement already satisfied: matplotlib in /usr/local/lib/python3.7/dist-packages (from scikit-posthocs) (3.2.2)\n",
            "Requirement already satisfied: statsmodels in /usr/local/lib/python3.7/dist-packages (from scikit-posthocs) (0.10.2)\n",
            "Requirement already satisfied: pandas>=0.20.0 in /usr/local/lib/python3.7/dist-packages (from scikit-posthocs) (1.1.5)\n",
            "Requirement already satisfied: seaborn in /usr/local/lib/python3.7/dist-packages (from scikit-posthocs) (0.11.1)\n",
            "Requirement already satisfied: python-dateutil>=2.1 in /usr/local/lib/python3.7/dist-packages (from matplotlib->scikit-posthocs) (2.8.1)\n",
            "Requirement already satisfied: kiwisolver>=1.0.1 in /usr/local/lib/python3.7/dist-packages (from matplotlib->scikit-posthocs) (1.3.1)\n",
            "Requirement already satisfied: cycler>=0.10 in /usr/local/lib/python3.7/dist-packages (from matplotlib->scikit-posthocs) (0.10.0)\n",
            "Requirement already satisfied: pyparsing!=2.0.4,!=2.1.2,!=2.1.6,>=2.0.1 in /usr/local/lib/python3.7/dist-packages (from matplotlib->scikit-posthocs) (2.4.7)\n",
            "Requirement already satisfied: patsy>=0.4.0 in /usr/local/lib/python3.7/dist-packages (from statsmodels->scikit-posthocs) (0.5.1)\n",
            "Requirement already satisfied: pytz>=2017.2 in /usr/local/lib/python3.7/dist-packages (from pandas>=0.20.0->scikit-posthocs) (2018.9)\n",
            "Requirement already satisfied: six>=1.5 in /usr/local/lib/python3.7/dist-packages (from python-dateutil>=2.1->matplotlib->scikit-posthocs) (1.15.0)\n",
            "Building wheels for collected packages: scikit-posthocs\n",
            "  Building wheel for scikit-posthocs (PEP 517) ... \u001b[?25l\u001b[?25hdone\n",
            "  Created wheel for scikit-posthocs: filename=scikit_posthocs-0.6.7-cp37-none-any.whl size=37886 sha256=8046c8d6404be3d25fab45accd2f1975ee496213179dc253cb5bf6077b532a71\n",
            "  Stored in directory: /root/.cache/pip/wheels/00/0f/56/897c22820a48a74f50f1a85faaa4b133bb8865e8b094b596f5\n",
            "Successfully built scikit-posthocs\n",
            "Installing collected packages: scikit-posthocs\n",
            "Successfully installed scikit-posthocs-0.6.7\n"
          ],
          "name": "stdout"
        }
      ]
    },
    {
      "cell_type": "code",
      "metadata": {
        "id": "hdrcP61CzmJ3"
      },
      "source": [
        "#archivo = input(\"Ingrese el nombre del archivo\")"
      ],
      "execution_count": null,
      "outputs": []
    },
    {
      "cell_type": "code",
      "metadata": {
        "colab": {
          "base_uri": "https://localhost:8080/",
          "height": 204
        },
        "id": "jH2I5bZx68VO",
        "outputId": "2b3b0b21-2af9-4991-b976-3055b9fc5ce5"
      },
      "source": [
        "df = pd.read_csv('/content/IA_CDR_Colina_Machos.csv', sep=';')\n",
        "df.head()"
      ],
      "execution_count": null,
      "outputs": [
        {
          "output_type": "execute_result",
          "data": {
            "text/html": [
              "<div>\n",
              "<style scoped>\n",
              "    .dataframe tbody tr th:only-of-type {\n",
              "        vertical-align: middle;\n",
              "    }\n",
              "\n",
              "    .dataframe tbody tr th {\n",
              "        vertical-align: top;\n",
              "    }\n",
              "\n",
              "    .dataframe thead th {\n",
              "        text-align: right;\n",
              "    }\n",
              "</style>\n",
              "<table border=\"1\" class=\"dataframe\">\n",
              "  <thead>\n",
              "    <tr style=\"text-align: right;\">\n",
              "      <th></th>\n",
              "      <th>Veh</th>\n",
              "      <th>0.3</th>\n",
              "      <th>0.8</th>\n",
              "      <th>1.3</th>\n",
              "      <th>Unnamed: 4</th>\n",
              "      <th>Unnamed: 5</th>\n",
              "      <th>Unnamed: 6</th>\n",
              "      <th>Unnamed: 7</th>\n",
              "      <th>Unnamed: 8</th>\n",
              "    </tr>\n",
              "  </thead>\n",
              "  <tbody>\n",
              "    <tr>\n",
              "      <th>0</th>\n",
              "      <td>152.0</td>\n",
              "      <td>344.0</td>\n",
              "      <td>121.0</td>\n",
              "      <td>600.0</td>\n",
              "      <td>NaN</td>\n",
              "      <td>NaN</td>\n",
              "      <td>NaN</td>\n",
              "      <td>NaN</td>\n",
              "      <td>NaN</td>\n",
              "    </tr>\n",
              "    <tr>\n",
              "      <th>1</th>\n",
              "      <td>600.0</td>\n",
              "      <td>209.0</td>\n",
              "      <td>498.0</td>\n",
              "      <td>600.0</td>\n",
              "      <td>NaN</td>\n",
              "      <td>NaN</td>\n",
              "      <td>NaN</td>\n",
              "      <td>NaN</td>\n",
              "      <td>NaN</td>\n",
              "    </tr>\n",
              "    <tr>\n",
              "      <th>2</th>\n",
              "      <td>280.0</td>\n",
              "      <td>223.0</td>\n",
              "      <td>600.0</td>\n",
              "      <td>309.0</td>\n",
              "      <td>NaN</td>\n",
              "      <td>NaN</td>\n",
              "      <td>NaN</td>\n",
              "      <td>NaN</td>\n",
              "      <td>NaN</td>\n",
              "    </tr>\n",
              "    <tr>\n",
              "      <th>3</th>\n",
              "      <td>191.0</td>\n",
              "      <td>138.0</td>\n",
              "      <td>600.0</td>\n",
              "      <td>198.0</td>\n",
              "      <td>NaN</td>\n",
              "      <td>NaN</td>\n",
              "      <td>NaN</td>\n",
              "      <td>NaN</td>\n",
              "      <td>NaN</td>\n",
              "    </tr>\n",
              "    <tr>\n",
              "      <th>4</th>\n",
              "      <td>118.0</td>\n",
              "      <td>239.0</td>\n",
              "      <td>600.0</td>\n",
              "      <td>600.0</td>\n",
              "      <td>NaN</td>\n",
              "      <td>NaN</td>\n",
              "      <td>NaN</td>\n",
              "      <td>NaN</td>\n",
              "      <td>NaN</td>\n",
              "    </tr>\n",
              "  </tbody>\n",
              "</table>\n",
              "</div>"
            ],
            "text/plain": [
              "     Veh    0.3    0.8    1.3  ...  Unnamed: 5  Unnamed: 6  Unnamed: 7  Unnamed: 8\n",
              "0  152.0  344.0  121.0  600.0  ...         NaN         NaN         NaN         NaN\n",
              "1  600.0  209.0  498.0  600.0  ...         NaN         NaN         NaN         NaN\n",
              "2  280.0  223.0  600.0  309.0  ...         NaN         NaN         NaN         NaN\n",
              "3  191.0  138.0  600.0  198.0  ...         NaN         NaN         NaN         NaN\n",
              "4  118.0  239.0  600.0  600.0  ...         NaN         NaN         NaN         NaN\n",
              "\n",
              "[5 rows x 9 columns]"
            ]
          },
          "metadata": {
            "tags": []
          },
          "execution_count": 9
        }
      ]
    },
    {
      "cell_type": "code",
      "metadata": {
        "colab": {
          "base_uri": "https://localhost:8080/",
          "height": 390
        },
        "id": "5aTPbM4j7jwm",
        "outputId": "622ef5fe-b7d0-4c59-c844-6617c742483d"
      },
      "source": [
        "#Elimia las columnas y filas que tengan todos sus elementos vacios\n",
        "df.dropna(axis='columns', how=\"all\", inplace=True)\n",
        "df.dropna(axis='index', how=\"all\", inplace=True)\n",
        "df"
      ],
      "execution_count": null,
      "outputs": [
        {
          "output_type": "execute_result",
          "data": {
            "text/html": [
              "<div>\n",
              "<style scoped>\n",
              "    .dataframe tbody tr th:only-of-type {\n",
              "        vertical-align: middle;\n",
              "    }\n",
              "\n",
              "    .dataframe tbody tr th {\n",
              "        vertical-align: top;\n",
              "    }\n",
              "\n",
              "    .dataframe thead th {\n",
              "        text-align: right;\n",
              "    }\n",
              "</style>\n",
              "<table border=\"1\" class=\"dataframe\">\n",
              "  <thead>\n",
              "    <tr style=\"text-align: right;\">\n",
              "      <th></th>\n",
              "      <th>Veh</th>\n",
              "      <th>0.3</th>\n",
              "      <th>0.8</th>\n",
              "      <th>1.3</th>\n",
              "    </tr>\n",
              "  </thead>\n",
              "  <tbody>\n",
              "    <tr>\n",
              "      <th>0</th>\n",
              "      <td>152.0</td>\n",
              "      <td>344.0</td>\n",
              "      <td>121.0</td>\n",
              "      <td>600.0</td>\n",
              "    </tr>\n",
              "    <tr>\n",
              "      <th>1</th>\n",
              "      <td>600.0</td>\n",
              "      <td>209.0</td>\n",
              "      <td>498.0</td>\n",
              "      <td>600.0</td>\n",
              "    </tr>\n",
              "    <tr>\n",
              "      <th>2</th>\n",
              "      <td>280.0</td>\n",
              "      <td>223.0</td>\n",
              "      <td>600.0</td>\n",
              "      <td>309.0</td>\n",
              "    </tr>\n",
              "    <tr>\n",
              "      <th>3</th>\n",
              "      <td>191.0</td>\n",
              "      <td>138.0</td>\n",
              "      <td>600.0</td>\n",
              "      <td>198.0</td>\n",
              "    </tr>\n",
              "    <tr>\n",
              "      <th>4</th>\n",
              "      <td>118.0</td>\n",
              "      <td>239.0</td>\n",
              "      <td>600.0</td>\n",
              "      <td>600.0</td>\n",
              "    </tr>\n",
              "    <tr>\n",
              "      <th>5</th>\n",
              "      <td>308.0</td>\n",
              "      <td>NaN</td>\n",
              "      <td>600.0</td>\n",
              "      <td>NaN</td>\n",
              "    </tr>\n",
              "    <tr>\n",
              "      <th>7</th>\n",
              "      <td>31.0</td>\n",
              "      <td>182.0</td>\n",
              "      <td>178.0</td>\n",
              "      <td>600.0</td>\n",
              "    </tr>\n",
              "    <tr>\n",
              "      <th>8</th>\n",
              "      <td>98.0</td>\n",
              "      <td>75.0</td>\n",
              "      <td>241.0</td>\n",
              "      <td>61.0</td>\n",
              "    </tr>\n",
              "    <tr>\n",
              "      <th>9</th>\n",
              "      <td>160.0</td>\n",
              "      <td>600.0</td>\n",
              "      <td>230.0</td>\n",
              "      <td>210.0</td>\n",
              "    </tr>\n",
              "    <tr>\n",
              "      <th>10</th>\n",
              "      <td>210.0</td>\n",
              "      <td>154.0</td>\n",
              "      <td>28.0</td>\n",
              "      <td>312.0</td>\n",
              "    </tr>\n",
              "    <tr>\n",
              "      <th>11</th>\n",
              "      <td>140.0</td>\n",
              "      <td>95.0</td>\n",
              "      <td>NaN</td>\n",
              "      <td>600.0</td>\n",
              "    </tr>\n",
              "  </tbody>\n",
              "</table>\n",
              "</div>"
            ],
            "text/plain": [
              "      Veh    0.3    0.8    1.3\n",
              "0   152.0  344.0  121.0  600.0\n",
              "1   600.0  209.0  498.0  600.0\n",
              "2   280.0  223.0  600.0  309.0\n",
              "3   191.0  138.0  600.0  198.0\n",
              "4   118.0  239.0  600.0  600.0\n",
              "5   308.0    NaN  600.0    NaN\n",
              "7    31.0  182.0  178.0  600.0\n",
              "8    98.0   75.0  241.0   61.0\n",
              "9   160.0  600.0  230.0  210.0\n",
              "10  210.0  154.0   28.0  312.0\n",
              "11  140.0   95.0    NaN  600.0"
            ]
          },
          "metadata": {
            "tags": []
          },
          "execution_count": 10
        }
      ]
    },
    {
      "cell_type": "markdown",
      "metadata": {
        "id": "CJxPa1FIa3H3"
      },
      "source": [
        "### Visualización de los datos"
      ]
    },
    {
      "cell_type": "code",
      "metadata": {
        "id": "awFOJBtORuWw"
      },
      "source": [
        "# reshape del dataframe para poder usar statsmodels\n",
        "# Pone todos los tratamientos uno arriba del otro y al lado su latencia\n",
        "# Queda una trabla tipo Tratamiento / Latencia\n",
        "df_melt = pd.melt(df.reset_index(), value_vars=['Veh', '0.3', '0.8', '1.3'])\n",
        "# reemplaza los nombres de las columnas\n",
        "df_melt.columns = ['Tratamiento', 'Latencia']"
      ],
      "execution_count": null,
      "outputs": []
    },
    {
      "cell_type": "code",
      "metadata": {
        "colab": {
          "base_uri": "https://localhost:8080/",
          "height": 513
        },
        "id": "1FQ_3HT-VnQJ",
        "outputId": "4ecd5fbc-4f85-48c2-aeea-e096c22edcd3"
      },
      "source": [
        "plt.figure(figsize=(6,8))\n",
        "ax = sns.boxplot(x='Tratamiento', y='Latencia', data=df_melt, palette=\"Set2\", fliersize=10).set_title('Datos con outliers')\n",
        "sns.despine()"
      ],
      "execution_count": null,
      "outputs": [
        {
          "output_type": "display_data",
          "data": {
            "image/png": "[encoded data removed]",
            "text/plain": [
              "<Figure size 432x576 with 1 Axes>"
            ]
          },
          "metadata": {
            "tags": [],
            "needs_background": "light"
          }
        }
      ]
    },
    {
      "cell_type": "code",
      "metadata": {
        "id": "ZOxDr-sIXoJP"
      },
      "source": [
        "# generate a boxplot to see the data distribution by treatments\n",
        "#ax = sns.boxplot(x='Tratamiento', y='Latencia', data=df_melt, palette=\"Set2\", fliersize=10)\n",
        "#ax = sns.swarmplot(x=\"Tratamiento\", y=\"Latencia\", data=df_melt, color=\".25\")\n",
        "#sns.despine()\n",
        "#sns.set_theme(font_scale=1.5)"
      ],
      "execution_count": null,
      "outputs": []
    },
    {
      "cell_type": "code",
      "metadata": {
        "colab": {
          "base_uri": "https://localhost:8080/"
        },
        "id": "7rQdb4I_Mhy3",
        "outputId": "4419d814-2902-411f-bfda-416f81b9b09b"
      },
      "source": [
        "Q1 = df.quantile(0.25)\n",
        "Q3 = df.quantile(0.75)\n",
        "IQR = Q3 - Q1\n",
        "print(IQR)"
      ],
      "execution_count": null,
      "outputs": [
        {
          "output_type": "stream",
          "text": [
            "Veh    116.00\n",
            "0.3     93.00\n",
            "0.8    409.00\n",
            "1.3    365.25\n",
            "dtype: float64\n"
          ],
          "name": "stdout"
        }
      ]
    },
    {
      "cell_type": "code",
      "metadata": {
        "colab": {
          "base_uri": "https://localhost:8080/",
          "height": 390
        },
        "id": "Eg2Pd9_uiVil",
        "outputId": "fa6689f3-00ff-4af9-a315-49c0d89abe3f"
      },
      "source": [
        "df_clean = df[(df > Q1 - 1.5 * IQR) & (df < Q3 + 1.5 * IQR)]\n",
        "df_clean\n"
      ],
      "execution_count": null,
      "outputs": [
        {
          "output_type": "execute_result",
          "data": {
            "text/html": [
              "<div>\n",
              "<style scoped>\n",
              "    .dataframe tbody tr th:only-of-type {\n",
              "        vertical-align: middle;\n",
              "    }\n",
              "\n",
              "    .dataframe tbody tr th {\n",
              "        vertical-align: top;\n",
              "    }\n",
              "\n",
              "    .dataframe thead th {\n",
              "        text-align: right;\n",
              "    }\n",
              "</style>\n",
              "<table border=\"1\" class=\"dataframe\">\n",
              "  <thead>\n",
              "    <tr style=\"text-align: right;\">\n",
              "      <th></th>\n",
              "      <th>Veh</th>\n",
              "      <th>0.3</th>\n",
              "      <th>0.8</th>\n",
              "      <th>1.3</th>\n",
              "    </tr>\n",
              "  </thead>\n",
              "  <tbody>\n",
              "    <tr>\n",
              "      <th>0</th>\n",
              "      <td>152.0</td>\n",
              "      <td>344.0</td>\n",
              "      <td>121.0</td>\n",
              "      <td>600.0</td>\n",
              "    </tr>\n",
              "    <tr>\n",
              "      <th>1</th>\n",
              "      <td>NaN</td>\n",
              "      <td>209.0</td>\n",
              "      <td>498.0</td>\n",
              "      <td>600.0</td>\n",
              "    </tr>\n",
              "    <tr>\n",
              "      <th>2</th>\n",
              "      <td>280.0</td>\n",
              "      <td>223.0</td>\n",
              "      <td>600.0</td>\n",
              "      <td>309.0</td>\n",
              "    </tr>\n",
              "    <tr>\n",
              "      <th>3</th>\n",
              "      <td>191.0</td>\n",
              "      <td>138.0</td>\n",
              "      <td>600.0</td>\n",
              "      <td>198.0</td>\n",
              "    </tr>\n",
              "    <tr>\n",
              "      <th>4</th>\n",
              "      <td>118.0</td>\n",
              "      <td>239.0</td>\n",
              "      <td>600.0</td>\n",
              "      <td>600.0</td>\n",
              "    </tr>\n",
              "    <tr>\n",
              "      <th>5</th>\n",
              "      <td>308.0</td>\n",
              "      <td>NaN</td>\n",
              "      <td>600.0</td>\n",
              "      <td>NaN</td>\n",
              "    </tr>\n",
              "    <tr>\n",
              "      <th>7</th>\n",
              "      <td>31.0</td>\n",
              "      <td>182.0</td>\n",
              "      <td>178.0</td>\n",
              "      <td>600.0</td>\n",
              "    </tr>\n",
              "    <tr>\n",
              "      <th>8</th>\n",
              "      <td>98.0</td>\n",
              "      <td>75.0</td>\n",
              "      <td>241.0</td>\n",
              "      <td>61.0</td>\n",
              "    </tr>\n",
              "    <tr>\n",
              "      <th>9</th>\n",
              "      <td>160.0</td>\n",
              "      <td>NaN</td>\n",
              "      <td>230.0</td>\n",
              "      <td>210.0</td>\n",
              "    </tr>\n",
              "    <tr>\n",
              "      <th>10</th>\n",
              "      <td>210.0</td>\n",
              "      <td>154.0</td>\n",
              "      <td>28.0</td>\n",
              "      <td>312.0</td>\n",
              "    </tr>\n",
              "    <tr>\n",
              "      <th>11</th>\n",
              "      <td>140.0</td>\n",
              "      <td>95.0</td>\n",
              "      <td>NaN</td>\n",
              "      <td>600.0</td>\n",
              "    </tr>\n",
              "  </tbody>\n",
              "</table>\n",
              "</div>"
            ],
            "text/plain": [
              "      Veh    0.3    0.8    1.3\n",
              "0   152.0  344.0  121.0  600.0\n",
              "1     NaN  209.0  498.0  600.0\n",
              "2   280.0  223.0  600.0  309.0\n",
              "3   191.0  138.0  600.0  198.0\n",
              "4   118.0  239.0  600.0  600.0\n",
              "5   308.0    NaN  600.0    NaN\n",
              "7    31.0  182.0  178.0  600.0\n",
              "8    98.0   75.0  241.0   61.0\n",
              "9   160.0    NaN  230.0  210.0\n",
              "10  210.0  154.0   28.0  312.0\n",
              "11  140.0   95.0    NaN  600.0"
            ]
          },
          "metadata": {
            "tags": []
          },
          "execution_count": 15
        }
      ]
    },
    {
      "cell_type": "code",
      "metadata": {
        "colab": {
          "base_uri": "https://localhost:8080/",
          "height": 404
        },
        "id": "O9oNXAoJZozt",
        "outputId": "4d8a6e79-dd36-4896-f201-028394395f51"
      },
      "source": [
        "# reshape del dataframe para poder usar statsmodels\n",
        "df_melt_clean = pd.melt(df_clean.reset_index(), value_vars=['Veh', '0.3', '0.8', '1.3'])\n",
        "# reemplaza los nombres de las columnas\n",
        "df_melt_clean.columns = ['Tratamiento', 'Latencia']\n",
        "\n",
        "plt.figure(figsize=(8,6))\n",
        "ax = sns.barplot(x=\"Tratamiento\", y=\"Latencia\", data=df_melt_clean, estimator=median, palette=\"Set2\", capsize=.3, errwidth=.5).set_title('Datos sin outliers')\n",
        "ax = sns.swarmplot(x=\"Tratamiento\", y=\"Latencia\", data=df_melt_clean, color=\".25\")\n",
        "sns.despine()\n"
      ],
      "execution_count": null,
      "outputs": [
        {
          "output_type": "display_data",
          "data": {
            "image/png": "[encoded data removed]",
            "text/plain": [
              "<Figure size 576x432 with 1 Axes>"
            ]
          },
          "metadata": {
            "tags": [],
            "needs_background": "light"
          }
        }
      ]
    },
    {
      "cell_type": "markdown",
      "metadata": {
        "id": "a1B_bYoCa7p3"
      },
      "source": [
        "### Kruskal-Wallis"
      ]
    },
    {
      "cell_type": "code",
      "metadata": {
        "colab": {
          "base_uri": "https://localhost:8080/"
        },
        "id": "rw7NkRUzqulM",
        "outputId": "92c81fb8-3d44-45bf-e664-ea22b8390dd8"
      },
      "source": [
        "#Con scypi\n",
        "stat, p = kruskal(df_clean['Veh'], df_clean['0.3'], df_clean['0.8'], df_clean['1.3'], nan_policy='omit')\n",
        "print('Statistics=%.3f, p=%.5f' % (stat, p))\n",
        "\n",
        "alpha=0.05\n",
        "\n",
        "if p > alpha:\n",
        "    print('No hay diferencias significativas')\n",
        "else:\n",
        "    print('HAY diferencias significativas')"
      ],
      "execution_count": null,
      "outputs": [
        {
          "output_type": "stream",
          "text": [
            "Statistics=9.861, p=0.01978\n",
            "HAY diferencias significativas\n"
          ],
          "name": "stdout"
        }
      ]
    },
    {
      "cell_type": "markdown",
      "metadata": {
        "id": "jm0CS9rglr_S"
      },
      "source": [
        "#### Dunn's pos hoc multiple comparisons"
      ]
    },
    {
      "cell_type": "code",
      "metadata": {
        "colab": {
          "base_uri": "https://localhost:8080/",
          "height": 333
        },
        "id": "8mZG-H5ovglC",
        "outputId": "6944a859-741b-4225-ff90-98d716d0e100"
      },
      "source": [
        "## Acá estoy haciendo todos contra todos\n",
        "\n",
        "dunn = sp.posthoc_dunn(df_melt_clean.dropna(), 'Latencia', 'Tratamiento')\n",
        "#print(dunn)\n",
        "\n",
        "# Generate a mask for the upper triangle\n",
        "mask = np.triu(np.ones_like(dunn, dtype=bool))\n",
        "\n",
        "# Set up the matplotlib figure\n",
        "f, ax = plt.subplots(figsize=(6, 7))\n",
        "\n",
        "# Draw the heatmap with the mask and correct aspect ratio\n",
        "sns.heatmap(dunn, mask=mask, annot=True, vmax=.5, center=0,\n",
        "            square=True, linewidths=.5, cbar_kws={\"shrink\": .5})"
      ],
      "execution_count": null,
      "outputs": [
        {
          "output_type": "execute_result",
          "data": {
            "text/plain": [
              "<matplotlib.axes._subplots.AxesSubplot at 0x7ff7d38e6e90>"
            ]
          },
          "metadata": {
            "tags": []
          },
          "execution_count": 87
        },
        {
          "output_type": "display_data",
          "data": {
            "image/png": "[encoded data removed]",
            "text/plain": [
              "<Figure size 432x504 with 2 Axes>"
            ]
          },
          "metadata": {
            "tags": [],
            "needs_background": "light"
          }
        }
      ]
    },
    {
      "cell_type": "code",
      "metadata": {
        "id": "XWIHcmusEZBC"
      },
      "source": [
        "#dunn = sp.posthoc_dunn(df_clean.dropna(), df_clean[1:], df_clean['Veh'])\n",
        "#print(dunn)\n",
        "\n"
      ],
      "execution_count": null,
      "outputs": []
    }
  ]
}